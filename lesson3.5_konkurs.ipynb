{
 "cells": [
  {
   "cell_type": "markdown",
   "metadata": {},
   "source": [
    "# Konkurs | 6 edycja kursu \"Praktyczne uczenie maszynowe\"\n",
    "\n",
    "\n",
    "### Cel:\n",
    "Prognozowanie wartości zwrotu dla danego zamówienia. \n",
    "\n",
    "\n",
    "## Na czym polega konkurs?\n",
    "Jest sklep online, który sprzedaje różne produkty dla ludzi z różnych krajów. Jedno zamówienie (faktura) może zawierać więcej niż jeden produkt. Trend, który jest dość popularny w szczególności w krajach zachodnich, to możliwość zwrotów i klienci chętnie z tego korzystają. Zwroty generują koszty i warto umieć przewidzieć to i jakoś z tym podziałać (pomijając skrajne przypadki takie jak \"nie sprzedawać\" klientowi X, bo to pewnie jest zakazane prawem). Natomiast pewnie dałoby się coś zrobić, jeśli wiedzielibyśmy, które zamówienia mogą być z dużym prawdopodobieństwem zwrócone.\n",
    "\n",
    "**To zadanie można podzielić na 2 części**: z jednej strony jest to klasyfikacja, ponieważ ostatecznie trzeba stwierdzić, **czy ten produkt będzie zwrócony czy nie**. Z drugiej strony (i to jest docelowe zadanie) przez to, że zamówienie może zawierać więcej niż jeden produkt, to **ostatecznie chcemy obliczyć sumaryczny koszt zwrotów**. Możesz założyć, że jeśli w danym złożonym i opłaconym zamówieniu jest zwrot nawet jednego produktu, to zwracana jest całość zamówienia (czyli wszystkie produkty zawarte w tym zamówieniu). **Suma cen tych produktów daje całkowitą wartość zwrotu, właśnie to będziemy przewidydwać**.\n",
    "\n",
    "\n",
    "\n",
    "### Metryką sukcesu\n",
    "będzie **mean squared error**.\n",
    "\n",
    "Dlaczego taka metryka? \n",
    "- Po pierwsze którąś trzeba wybrać :) \n",
    "- Po drugie, warto zrobić to w taki sposób, aby nie zajęło zbyt wiele czasu na zastanawianie się nad tym. Jeśli w trakcie konkursu uznasz, że któraś byłaby lepsza, to super. Oczywiście w ramach konkursu metryka zostanie jak wyżej, ale jak najbardziej przy okazji polecam zastanowić się, czy da się zrobić to lepiej.\n",
    "- Po trzecie, [zasada Pareta](https://pl.wikipedia.org/wiki/Zasada_Pareta) naprawdę działa, czyli 20% wysiłku tworzy nam 80% wartości (i też można uznać, że działa to w drugą stronę). Nawet powiem więcej, warto to jeszcze podkręcić do kwadratu i koncentrować się na 4% wysiłku, aby uzyskać 64% wartości.\n",
    "\n",
    "Zobacz na przykładzie. Sprawdziłem 4% najdroższych zwrotów i okazało się, że to 80% wartości do wszystkich zwrotów. Zobacz, jak rozkład wygląda na wykresie.\n",
    "![](../images/cumsum.png)\n",
    "\n",
    "Dlatego w tym przypadku warto bardzo karać przypadki większe, `mean_square_error` robi to całkiem dobrze.\n",
    "\n",
    "\n",
    "### Kaggle\n",
    "Konkurs będzie dostępny na Kaggle - link do [konkursu](https://www.kaggle.com/t/db06f4ddf6ea450bbdacf78f067d792b).\n",
    "\n",
    "### Rejestracja\n",
    "Jeśli jeszcze nie masz konta na Kaggle, to proszę [załóż konto](https://www.kaggle.com/).\n",
    "\n",
    "Kaggle to jest największa społeczność uczenia maszynowego na świecie (póki co DataWorkshop jest tylko w Polsce, ale to pewnie się zmieni ;)). Dlatego jeśli chcesz zająć się tym na poważnie, zainspirować się lub od czasu do czasu brać udział w konkursach, to polecam założyć tam konto.\n",
    "\n",
    "### Regulamin\n",
    "1. Konkurs rozpoczyna się **31 marca 2020 r.** i kończy się w niedzielę, **12 kwietnia 2020 r. o 23:59** (UTC).\n",
    "2. Osoba, która będzie na pierwszym miejscu dostaje nagrodę - przenośny dysk, za drugie i trzecie miejsca będą kubki termiczne z logo DataWorkshop. Miejsca będą widoczne na Leader Board przez cały czas trwania konkursu.\n",
    "3. Zbiór danych został podzielony na dwie części: publiczny i prywatny. Publiczny zbiór danych zawiera cechy + odpowiedź, prywatny zbiór tylko cechy. Należy zrobić predykcję na prywatnym zbiorze i wysłać na Kaggle. Gdy skończy się konkurs, to ostateczny wynik będzie na zbiorze prywatnym.\n",
    "4. Dane są przygotowane w celach edukacyjnych, zakazane jest ich używanie w innym celu niż ten kurs oraz zakazane jest upublicznianie danych w dowolny sposób. Rozwiązanie ma być oparte tylko i wyłącznie przy użyciu uczenia maszynowego (trenowanie modelu na podstawie udostępnionych danych). Nie ma co kombinować, skup się na nauce :).\n",
    "5. W tym konkursie nie można łączyć się w drużyny. Każdy uczestnik może dodać rozwiązanie (czyli zrobić tak zwany *submit*) do 5 prób rozwiązań w jeden dzień (dlatego warto zacząć wcześniej, będzie więcej prób).\n",
    "6. Osoby, które zajmą 1, 2 oraz 3 miejsca opublikują wszystkim swoje rozwiązanie (w przeciągu tygodnia po wygranej) i udostępnią je podając link na Slacku.\n",
    "7. Nagroda będzie wysłana do 2 tygodni na terenie Polski (i powinna przyjść przed końcem kursu).\n",
    "\n",
    "### Dane\n",
    "\n",
    "W danych jest **1 067 371** wierszy, które zostały podzielone prawie na równe części:\n",
    "- `train_online_retail` (520 142 wierszy)\n",
    "- `test_online_retail` (547 229 wierszy)\n",
    "\n",
    "Uwaga! Zwróć uwagę, że w wierszach jest pojedyńczy produkt, a zamówienie może się składać z kilku produktów. Docelowo będziemy prognozować kwotę do zwrotu dla danego zamówienia. **Twoim zadaniem jest zrobić predykcję wartości zamówienia do zwrotu dla zbioru testowego**. \n",
    "\n",
    "\n",
    "Jak robisz `submit` na Kaggle, to jest wyliczany wynik. Zwróć uwagę, że wynik jest wyliczany tylko na 30% danych testowych i ten wynik jest widoczny na tak zwanym \"Public Leader Board\". \n",
    "\n",
    "W praktyce to oznacza, że w Twoim zbiorze treningowym są odpowiedzi, ale masz tak trenować model, aby móc go zwalidować najpierw lokalnie (czyli użyć np. walidację krzyżową lub coś bardziej zaawansowanego). Następnie wrzucasz swój wynik na Kaggle (jako plik csv). W ciągu dnia masz maksymalnie 5 prób (czym wcześniej zaczniesz robić konkurs, tym więcej będziesz mieć prób). W trakcie konkursu Twój wyliczony wynik jest sprawdzony tylko na części danych (w tym przypadku 30%). To jest tak zwany Public Leader Board.\n",
    "\n",
    "![](../images/public_private.png)\n",
    "\n",
    "Gdy konkurs się skończy, wynik będzie przeliczony na wszystkich dostępnych danych testowych i będzie dostępny na tak zwanym \"Private Leader Board\". Dlaczego tak się robi? Chodzi o to, że Twoje rozwiązanie powinno być jak najbardziej stabilne na jak najmniejszej jak i większej próbce danych. Dlatego musisz uważnie robić walidację, bo pierwsze miejsce na Public Leader Board nie musi być pierwszym na Private Leader Board :) Uważaj na to!\n",
    "\n",
    "![](../images/30_70.png)\n",
    "\n",
    "\n",
    "## Nagroda\n",
    "### Przenośny dysk na 2 TB - pierwsze miejsce\n",
    "![Google Home](../images/disk.png)\n",
    "\n",
    "### Kubek termiczny za 2 i 3 miejsce\n",
    "<div style=\"width: 700px; height: 500px; margin: 10px auto;\">\n",
    "    <img src=\"../images/cup.png\" style=\"height: 400px; float: left; \" />\n",
    "    <img src=\"../images/cup.png\" style=\"height: 400px; float: right;\" />\n",
    "</div>"
   ]
  },
  {
   "cell_type": "code",
   "execution_count": 419,
   "metadata": {},
   "outputs": [],
   "source": [
    "import pandas as pd\n",
    "import numpy as np\n",
    "np.random.seed(0)\n",
    "\n",
    "from sklearn.metrics import mean_squared_error as mse\n",
    "from sklearn.dummy import DummyRegressor\n",
    "from sklearn.tree import DecisionTreeRegressor\n",
    "from sklearn.ensemble import RandomForestRegressor, ExtraTreesRegressor\n",
    "\n",
    "from sklearn.model_selection import train_test_split, KFold\n",
    "\n",
    "import scikitplot as skplt\n",
    "\n",
    "import xgboost as xgb\n",
    "import lightgbm as lgb\n",
    "import catboost as ctb"
   ]
  },
  {
   "cell_type": "markdown",
   "metadata": {},
   "source": [
    "## Dane\n",
    "To są prawdziwe dane.\n",
    "\n",
    "**Uwaga!** Danych można używać tylko i wyłącznie w **celach edukacyjnych** (również nie można ich publikować lub dzielić się nimi z innymi)!"
   ]
  },
  {
   "cell_type": "code",
   "execution_count": 420,
   "metadata": {},
   "outputs": [],
   "source": [
    "# train = pd.read_hdf('../input/train_online_retail.h5')\n",
    "# train.info()"
   ]
  },
  {
   "cell_type": "markdown",
   "metadata": {},
   "source": [
    "W pliku `train_online_retail` jeden wiersz dotyczy jednego produktu. Jedno zamówienie może zawierać 1 lub więcej produktów.\n",
    "\n",
    "Ostatecznie prognozowanie będzie per zamówienie, czyli należy to zrozumieć jako posortowanie wszystkich produktów po fakturze. Zróbmy to, aby lepiej było zrozumiałe, co należy zrobić."
   ]
  },
  {
   "cell_type": "code",
   "execution_count": 421,
   "metadata": {},
   "outputs": [],
   "source": [
    "# orders = train.groupby('invoice')['is_canceled', 'price_total'].sum()\n",
    "# orders.sample(15)"
   ]
  },
  {
   "cell_type": "markdown",
   "metadata": {},
   "source": [
    "W wyniku tej operacji mamy sumaryczny koszt dla wszystkich produktów w danym zamówieniu. Zwróć uwagę na kolumnę `is_canceled`. Jak widzisz, ma ona teraz wartości albo 0 albo coś większego (np. 1., 2 itd). To nastąpiło na skutek tego, że w jednym zamówieniu możemy mieć więcej produktów. Każdy z nich został zwrócony, wynik to liczba, która w tym momencie tak naprawdę mówi o tym, ile było produktów w zamówieniu. Wybierz dowolny `invoice` powyżej, gdzie `is_canceled` jest większy niż zero. Na przykład dla `invoice=3046` mamy 2.0. "
   ]
  },
  {
   "cell_type": "code",
   "execution_count": 422,
   "metadata": {},
   "outputs": [],
   "source": [
    "# train[ train.invoice == 3046 ]"
   ]
  },
  {
   "cell_type": "markdown",
   "metadata": {},
   "source": [
    "Jak widzisz mamy dwa produkty. Tutaj też ciekawostka Pythona, który automatycznie rzutuje `bool` do `int`. Zobacz, suma listy składającej się z dwóch `True` będzie 2 :)."
   ]
  },
  {
   "cell_type": "code",
   "execution_count": 423,
   "metadata": {},
   "outputs": [],
   "source": [
    "# sum([True, True])"
   ]
  },
  {
   "cell_type": "markdown",
   "metadata": {},
   "source": [
    "Zróbmy teraz małą kosmetyczną zmianę w naszym `orders`, aby `is_canceled` było albo `True` albo `False`."
   ]
  },
  {
   "cell_type": "code",
   "execution_count": 424,
   "metadata": {},
   "outputs": [],
   "source": [
    "# orders['is_canceled'] = orders['is_canceled'] > 0\n",
    "# orders.sample(15)"
   ]
  },
  {
   "cell_type": "markdown",
   "metadata": {},
   "source": [
    "Twoim zadaniem jest sprognozować wartość zwrotów. Co to oznacza w praktyce? Jeśli zamówienie było anulowane, to wtedy trzeba  zwrócić to, co jest w kolumnie `price_total`, w innym przypadku jest zero (czyli niczego nie trzeba zwracać, bo klient zostawił produkt u siebie). W ten sposób powstaje nam kolumna `total_return`, to jest to, co będziesz przewidywać :). "
   ]
  },
  {
   "cell_type": "code",
   "execution_count": 425,
   "metadata": {},
   "outputs": [],
   "source": [
    "# orders['total_return'] = orders['price_total'] * orders['is_canceled'] \n",
    "# orders.sample(20)"
   ]
  },
  {
   "cell_type": "markdown",
   "metadata": {},
   "source": [
    "To samo zrobiłem i zapisałem do pliku `csv` i tak powstał `../input/orders_train.csv`."
   ]
  },
  {
   "cell_type": "code",
   "execution_count": 426,
   "metadata": {},
   "outputs": [],
   "source": [
    "# orders_train =  pd.read_csv('../input/orders_train.csv')\n",
    "# orders_train.sample(20)"
   ]
  },
  {
   "cell_type": "markdown",
   "metadata": {},
   "source": [
    "Taki sam plik jest dla testu, czyli `../input/orders_test.csv`. O tym będzie poniżej."
   ]
  },
  {
   "cell_type": "markdown",
   "metadata": {},
   "source": [
    "Zróbmy teraz najprostszy model, aby jak najszybciej rozpocząć przygodę z Kaggle.\n",
    "\n",
    "## Basic Model"
   ]
  },
  {
   "cell_type": "code",
   "execution_count": 427,
   "metadata": {},
   "outputs": [],
   "source": [
    "# feats = ['invoice'] # w tym przypadku wszystko jedno jaka kolumna\n",
    "# X = orders_train[feats].values\n",
    "# y = orders_train['total_return'].values\n",
    "\n",
    "# model = DummyRegressor(strategy='mean')\n",
    "# model.fit(X, y)\n",
    "# y_pred = model.predict(X)\n",
    "\n",
    "# mse(y, y_pred)"
   ]
  },
  {
   "cell_type": "markdown",
   "metadata": {},
   "source": [
    "Pierwszy wynik jest ok. **1 492 585**. Teraz przygotujmy dane dla `submit`'u!\n",
    "\n",
    "## Submit"
   ]
  },
  {
   "cell_type": "code",
   "execution_count": 428,
   "metadata": {},
   "outputs": [],
   "source": [
    "# orders_test =  pd.read_csv('../input/orders_test.csv')\n",
    "# print(orders_test)\n",
    "\n",
    "# X = orders_test[feats].values\n",
    "# y_pred = model.predict(X)\n",
    "# y_pred"
   ]
  },
  {
   "cell_type": "markdown",
   "metadata": {},
   "source": [
    "## Submission\n",
    "Trzeba przygotować plik, który będzie zawierał: `id` i `readmitted`, następnie zaloguj się na Kaggle, wejdź na stronę konkursu i dodaj swój wynik :). Koniecznie napisz na Slacku, że już \"pierwsze koty za płoty\" :)."
   ]
  },
  {
   "cell_type": "code",
   "execution_count": 429,
   "metadata": {},
   "outputs": [],
   "source": [
    "# orders_test['total_return'] = y_pred\n",
    "# orders_test[ ['invoice', 'total_return'] ].to_csv('../output/submit_dummy_model.csv', index=False) "
   ]
  },
  {
   "cell_type": "markdown",
   "metadata": {
    "collapsed": true
   },
   "source": [
    "![](../images/submit.png)"
   ]
  },
  {
   "cell_type": "markdown",
   "metadata": {},
   "source": [
    "Teraz już zastosuj swoją wiedzę, którą masz.\n",
    "Spróbuj znaleźć lepsze cechy, lepszy model i lepsze parametry.\n",
    "\n",
    "Powodzenia!"
   ]
  },
  {
   "cell_type": "markdown",
   "metadata": {},
   "source": [
    "#  Prognozowanie wartości zwrotu dla danego zamówienia. / j.wojciechowski"
   ]
  },
  {
   "cell_type": "markdown",
   "metadata": {},
   "source": [
    "## Dane:\n",
    "\n",
    "- `invoice` - nr. faktury\n",
    "- `stock_code` - produkt ID\n",
    "- `description` - opis produktu\n",
    "- `quantity` - liczba kupionych tych samych produktów w ramach jednej transakcji\n",
    "- `invoice_date` - data wystawienie faktury\n",
    "- `price_unit` - cena jednostkowa produktu za sztukę w funtach\n",
    "- `price_total` - cena razem `price_unit * quantity` \n",
    "- `customer_id` - klient ID\n",
    "- `country` - nazwa kraju, z którego klient kupował\n",
    "- `is_canceled` - czy faktura była anulowana\n",
    "- `is_test` - czy to zbiór testowy\n",
    "\n",
    "## Metryka sukcesu\n",
    "\n",
    "- MSE\n",
    "\n",
    "## Target\n",
    "\n",
    "- czy produkt będzie zwrócony czy nie?\n",
    "- sumaryczny koszt zwrotów"
   ]
  },
  {
   "cell_type": "code",
   "execution_count": 430,
   "metadata": {},
   "outputs": [],
   "source": [
    "import pandas as pd\n",
    "import numpy as np\n",
    "np.random.seed(0)\n",
    "\n",
    "from collections import defaultdict\n",
    "\n",
    "import xgboost as xgb\n",
    "\n",
    "from sklearn.metrics import accuracy_score, precision_score, recall_score, f1_score, fbeta_score\n",
    "\n",
    "from sklearn.model_selection import train_test_split, KFold, StratifiedKFold\n",
    "\n",
    "\n",
    "import matplotlib.pyplot as plt\n",
    "import seaborn as sns\n",
    "%matplotlib inline\n",
    "\n",
    "import gc"
   ]
  },
  {
   "cell_type": "markdown",
   "metadata": {},
   "source": [
    "## Read data"
   ]
  },
  {
   "cell_type": "code",
   "execution_count": 431,
   "metadata": {},
   "outputs": [
    {
     "data": {
      "text/html": [
       "<div>\n",
       "<style scoped>\n",
       "    .dataframe tbody tr th:only-of-type {\n",
       "        vertical-align: middle;\n",
       "    }\n",
       "\n",
       "    .dataframe tbody tr th {\n",
       "        vertical-align: top;\n",
       "    }\n",
       "\n",
       "    .dataframe thead th {\n",
       "        text-align: right;\n",
       "    }\n",
       "</style>\n",
       "<table border=\"1\" class=\"dataframe\">\n",
       "  <thead>\n",
       "    <tr style=\"text-align: right;\">\n",
       "      <th></th>\n",
       "      <th>invoice</th>\n",
       "      <th>stock_code</th>\n",
       "      <th>description</th>\n",
       "      <th>quantity</th>\n",
       "      <th>invoice_date</th>\n",
       "      <th>price_unit</th>\n",
       "      <th>price_total</th>\n",
       "      <th>customer_id</th>\n",
       "      <th>country</th>\n",
       "      <th>is_canceled</th>\n",
       "      <th>is_test</th>\n",
       "    </tr>\n",
       "  </thead>\n",
       "  <tbody>\n",
       "    <tr>\n",
       "      <th>12</th>\n",
       "      <td>2</td>\n",
       "      <td>12</td>\n",
       "      <td>DOOR MAT BLACK FLOCK</td>\n",
       "      <td>10</td>\n",
       "      <td>2009-12-01 09:06:00</td>\n",
       "      <td>5.949219</td>\n",
       "      <td>59.500000</td>\n",
       "      <td>1</td>\n",
       "      <td>United Kingdom</td>\n",
       "      <td>False</td>\n",
       "      <td>False</td>\n",
       "    </tr>\n",
       "    <tr>\n",
       "      <th>13</th>\n",
       "      <td>2</td>\n",
       "      <td>13</td>\n",
       "      <td>LOVE BUILDING BLOCK WORD</td>\n",
       "      <td>18</td>\n",
       "      <td>2009-12-01 09:06:00</td>\n",
       "      <td>5.449219</td>\n",
       "      <td>98.099998</td>\n",
       "      <td>1</td>\n",
       "      <td>United Kingdom</td>\n",
       "      <td>False</td>\n",
       "      <td>False</td>\n",
       "    </tr>\n",
       "    <tr>\n",
       "      <th>14</th>\n",
       "      <td>2</td>\n",
       "      <td>14</td>\n",
       "      <td>HOME BUILDING BLOCK WORD</td>\n",
       "      <td>3</td>\n",
       "      <td>2009-12-01 09:06:00</td>\n",
       "      <td>5.949219</td>\n",
       "      <td>17.850000</td>\n",
       "      <td>1</td>\n",
       "      <td>United Kingdom</td>\n",
       "      <td>False</td>\n",
       "      <td>False</td>\n",
       "    </tr>\n",
       "    <tr>\n",
       "      <th>15</th>\n",
       "      <td>2</td>\n",
       "      <td>15</td>\n",
       "      <td>ASSORTED COLOUR BIRD ORNAMENT</td>\n",
       "      <td>16</td>\n",
       "      <td>2009-12-01 09:06:00</td>\n",
       "      <td>1.690430</td>\n",
       "      <td>27.040001</td>\n",
       "      <td>1</td>\n",
       "      <td>United Kingdom</td>\n",
       "      <td>False</td>\n",
       "      <td>False</td>\n",
       "    </tr>\n",
       "    <tr>\n",
       "      <th>16</th>\n",
       "      <td>2</td>\n",
       "      <td>16</td>\n",
       "      <td>PEACE WOODEN BLOCK LETTERS</td>\n",
       "      <td>3</td>\n",
       "      <td>2009-12-01 09:06:00</td>\n",
       "      <td>6.949219</td>\n",
       "      <td>20.850000</td>\n",
       "      <td>1</td>\n",
       "      <td>United Kingdom</td>\n",
       "      <td>False</td>\n",
       "      <td>False</td>\n",
       "    </tr>\n",
       "  </tbody>\n",
       "</table>\n",
       "</div>"
      ],
      "text/plain": [
       "    invoice  stock_code                    description  quantity  \\\n",
       "12        2          12          DOOR MAT BLACK FLOCK         10   \n",
       "13        2          13       LOVE BUILDING BLOCK WORD        18   \n",
       "14        2          14       HOME BUILDING BLOCK WORD         3   \n",
       "15        2          15  ASSORTED COLOUR BIRD ORNAMENT        16   \n",
       "16        2          16     PEACE WOODEN BLOCK LETTERS         3   \n",
       "\n",
       "          invoice_date  price_unit  price_total  customer_id         country  \\\n",
       "12 2009-12-01 09:06:00    5.949219    59.500000            1  United Kingdom   \n",
       "13 2009-12-01 09:06:00    5.449219    98.099998            1  United Kingdom   \n",
       "14 2009-12-01 09:06:00    5.949219    17.850000            1  United Kingdom   \n",
       "15 2009-12-01 09:06:00    1.690430    27.040001            1  United Kingdom   \n",
       "16 2009-12-01 09:06:00    6.949219    20.850000            1  United Kingdom   \n",
       "\n",
       "   is_canceled  is_test  \n",
       "12       False    False  \n",
       "13       False    False  \n",
       "14       False    False  \n",
       "15       False    False  \n",
       "16       False    False  "
      ]
     },
     "execution_count": 431,
     "metadata": {},
     "output_type": "execute_result"
    }
   ],
   "source": [
    "train = pd.read_hdf('../input/train_online_retail.h5')\n",
    "test = pd.read_hdf('../input/test_online_retail.h5')\n",
    "\n",
    "df_all = pd.concat([train, test], sort=False)\n",
    "df_all.head()"
   ]
  },
  {
   "cell_type": "code",
   "execution_count": 432,
   "metadata": {},
   "outputs": [],
   "source": [
    "def check_missing(df):\n",
    "    for column in df.columns:\n",
    "        missing = column, train[column].isnull().sum()\n",
    "        if missing[1] == 0: continue\n",
    "\n",
    "        print(missing)\n",
    "        \n",
    "# check_missing(train)"
   ]
  },
  {
   "cell_type": "markdown",
   "metadata": {},
   "source": [
    "## Features"
   ]
  },
  {
   "cell_type": "code",
   "execution_count": 433,
   "metadata": {},
   "outputs": [],
   "source": [
    "def group_to_dict(group_key, agg_func=np.sum):\n",
    "    train = df_all[ ~df_all['is_canceled'].isnull()] # get all train\n",
    "    dict_ = train.groupby(group_key)['is_canceled'].agg(agg_func).to_dict()\n",
    "    if -1 in dict_: del dict_[-1]\n",
    "        \n",
    "    mean = np.mean( list(dict_.values()) )\n",
    "    return defaultdict(lambda: mean, dict_)\n",
    "\n",
    "def set_date(df):\n",
    "    df['year'] = df['invoice_date'].map(lambda x: x.year)\n",
    "    df['month'] = df['invoice_date'].map(lambda x: x.month)\n",
    "    df['day'] = df['invoice_date'].map(lambda x: x.day)\n",
    "    df['hour'] = df['invoice_date'].map(lambda x: x.hour)\n",
    "    df['dayofweek'] = df['invoice_date'].map(lambda x: x.dayofweek)\n",
    "    df['weekend'] = df['dayofweek'].map(lambda x: int(x in [5,6]))\n",
    "    \n",
    "def create_categories(df):\n",
    "    all_desc = []\n",
    "    for row in df:\n",
    "        desc_split = row.description.split(' ')\n",
    "        all_desc.append(desc_split)\n",
    "    all_desc_unique = np.array(all_desc).unique()\n",
    "    return all_desc_unique\n",
    "\n",
    "def get_returned(df):\n",
    "    # get 500 the highest returned products \n",
    "    return df[df['is_canceled'] == True].sort_values(by='price_total', ascending=False)[:500]\n",
    "    \n",
    "def create_categories(df):\n",
    "    return pd.value_counts(df['description'])[:29].index\n",
    "\n",
    "def get_key_keys(categories):\n",
    "    key_words = []\n",
    "    for category in categories:\n",
    "        key_words = key_words + category.split(' ')\n",
    "    return pd.Series(key_words)\n",
    "\n",
    "def check_key_words(string, key_words):\n",
    "    if isinstance(string, str):\n",
    "        for word in string.split(' '):\n",
    "            if word in key_words:\n",
    "                return 1\n",
    "    return 0\n",
    "        \n",
    "def set_key_word(df, key_words):\n",
    "    df['key_word'] = df['description'].map(lambda x: check_key_words(x, key_words))\n",
    "    df['key_word'].map(lambda x: x if x == 1 else 0)\n",
    "    \n",
    "def get_feats(df):\n",
    "    # feats without invoice and customer_id\n",
    "    feats = df.select_dtypes([np.number, np.bool]).columns\n",
    "    black_list = ['is_canceled', 'is_canceled_higher', 'is_test', 'invoice', 'customer_id'] #117.000\n",
    "    return [x for x in feats if x not in black_list]"
   ]
  },
  {
   "cell_type": "code",
   "execution_count": 434,
   "metadata": {},
   "outputs": [],
   "source": [
    "returned = get_returned(df_all)\n",
    "categories = create_categories(returned)\n",
    "\n",
    "# key_words_all = get_key_keys(returned['description'])\n",
    "# key_words = pd.value_counts(key_words_all)[:50]"
   ]
  },
  {
   "cell_type": "code",
   "execution_count": 435,
   "metadata": {},
   "outputs": [],
   "source": [
    "df_all['cnt_customer_cancel'] = df_all['customer_id'].map(group_to_dict('customer_id'))\n",
    "df_all['cnt_customer_cancel'] = pd.to_numeric(df_all['cnt_customer_cancel'])\n",
    "\n",
    "df_all['cnt_customer_orders'] = df_all['customer_id'].map(group_to_dict('customer_id', agg_func=np.size))\n",
    "df_all['registered_customer'] = df_all['customer_id'].map(lambda x: 1 if x > 0 else 0)\n",
    "df_all['prc_odr_cancel'] = df_all['cnt_customer_cancel'].divide(df_all['cnt_customer_orders'] + df_all['cnt_customer_cancel'], fill_value=1)\n",
    "df_all['prc_odr_cancel'] = pd.to_numeric(df_all['prc_odr_cancel'])\n",
    "\n",
    "df_all['cnt_product_cancel'] = df_all['stock_code'].map(group_to_dict('customer_id'))\n",
    "df_all['cnt_product_cancel'] = pd.to_numeric(df_all['cnt_product_cancel'])\n",
    "df_all['cnt_product_orders'] = df_all['stock_code'].map(group_to_dict('customer_id', agg_func=np.size))\n",
    "df_all['prc_prod_odr_can'] = df_all['cnt_product_cancel'].divide(df_all['cnt_product_orders'] + df_all['cnt_product_cancel'], fill_value=1)\n",
    "df_all['prc_prod_odr_can'] = pd.to_numeric(df_all['prc_prod_odr_can'])\n",
    "\n",
    "df_all['price_total_log'] = df_all['price_total'].apply(lambda x: np.log(x) if x > 0 else 0)\n",
    "df_all['quantity_log'] = df_all['quantity'].apply(lambda x: np.log(x) if x > 0 else 0)\n",
    "df_all['price_unit_log'] = df_all['price_total_log'] / df_all['quantity_log']\n",
    "df_all['finalized'] = df_all['price_total'] > 0\n",
    "\n",
    "df_all['category'] = df_all['description'].map(lambda x: x if x in categories else 'other')\n",
    "# df_all['category_cat'] = pd.factorize(df_all['category'])[0]\n",
    "df_all['in_category'] = df_all['description'].map(lambda x: True if x in categories else False)\n",
    "\n",
    "df_all['country_cat'] = pd.factorize(df_all['country'])[0]\n",
    "set_date(df_all)\n",
    "\n",
    "# set_key_word(df_all, key_words)"
   ]
  },
  {
   "cell_type": "markdown",
   "metadata": {},
   "source": [
    "### Prepare to train"
   ]
  },
  {
   "cell_type": "code",
   "execution_count": 436,
   "metadata": {},
   "outputs": [],
   "source": [
    "# separate train and test after features engineering\n",
    "train = df_all[ ~df_all['is_canceled'].isnull() ].copy()\n",
    "test = df_all[ df_all['is_canceled'].isnull() ].copy()\n",
    "\n",
    "# create new target - is canceled and is in the highest returned products\n",
    "train['is_canceled_higher'] = train['is_canceled'] * train['in_category']\n",
    "train['is_canceled_higher'] = pd.to_numeric(train['is_canceled_higher'])\n",
    "\n",
    "# create feats\n",
    "feats = get_feats(train)\n",
    "\n",
    "# seperate train dataset to train_light, test_light to local validation and the faster learining\n",
    "invoice_ids = train.invoice.unique()\n",
    "np.random.shuffle(invoice_ids)\n",
    "n = int(len(invoice_ids) * 0.1)\n",
    "invoice_light = set(invoice_ids[:n]) # 10% for train\n",
    "invoice_test = set(invoice_ids[n:]) # 90% for test\n",
    "train_light = train[ train.invoice.map(lambda x: x in invoice_light) ]\n",
    "test_light = train[ train.invoice.map(lambda x: x in invoice_test) ]"
   ]
  },
  {
   "cell_type": "code",
   "execution_count": 437,
   "metadata": {},
   "outputs": [],
   "source": [
    "# comment for final learning\n",
    "\n",
    "# set X, y for test\n",
    "# X_test_light = test_light[feats].values\n",
    "# y_test_light = test_light['is_canceled_higher'].values\n",
    "\n",
    "# set X, y for train\n",
    "# X = train_light[feats].values\n",
    "# y = train_light['is_canceled_higher'].values"
   ]
  },
  {
   "cell_type": "code",
   "execution_count": 438,
   "metadata": {},
   "outputs": [],
   "source": [
    "# uncomment for final learning\n",
    "\n",
    "X = train[feats].values\n",
    "y = train['is_canceled_higher'].values\n",
    "\n",
    "X_test = test[feats].values"
   ]
  },
  {
   "cell_type": "code",
   "execution_count": 439,
   "metadata": {},
   "outputs": [
    {
     "data": {
      "text/plain": [
       "70"
      ]
     },
     "execution_count": 439,
     "metadata": {},
     "output_type": "execute_result"
    }
   ],
   "source": [
    "del df_all\n",
    "gc.collect()"
   ]
  },
  {
   "cell_type": "markdown",
   "metadata": {},
   "source": [
    "## Visualization"
   ]
  },
  {
   "cell_type": "code",
   "execution_count": 440,
   "metadata": {},
   "outputs": [],
   "source": [
    "# plt.rcParams['figure.figsize']=(20,10)\n",
    "# sns.heatmap(train.corr(), vmax=1., vmin=-1., annot=True, linewidths=.8, cmap=\"YlGnBu\");"
   ]
  },
  {
   "cell_type": "code",
   "execution_count": 441,
   "metadata": {},
   "outputs": [
    {
     "name": "stdout",
     "output_type": "stream",
     "text": [
      "<class 'pandas.core.frame.DataFrame'>\n",
      "Int64Index: 520142 entries, 12 to 541909\n",
      "Data columns (total 32 columns):\n",
      "invoice                520142 non-null int32\n",
      "stock_code             520142 non-null int16\n",
      "description            517903 non-null object\n",
      "quantity               520142 non-null int32\n",
      "invoice_date           520142 non-null datetime64[ns]\n",
      "price_unit             520142 non-null float16\n",
      "price_total            520142 non-null float32\n",
      "customer_id            520142 non-null int16\n",
      "country                520142 non-null object\n",
      "is_canceled            520142 non-null object\n",
      "is_test                520142 non-null bool\n",
      "cnt_customer_cancel    520142 non-null float64\n",
      "cnt_customer_orders    520142 non-null float64\n",
      "registered_customer    520142 non-null int64\n",
      "prc_odr_cancel         520142 non-null float64\n",
      "cnt_product_cancel     520142 non-null float64\n",
      "cnt_product_orders     520142 non-null float64\n",
      "prc_prod_odr_can       520142 non-null float64\n",
      "price_total_log        520142 non-null float64\n",
      "quantity_log           520142 non-null float64\n",
      "price_unit_log         519636 non-null float64\n",
      "finalized              520142 non-null bool\n",
      "category               520142 non-null object\n",
      "in_category            520142 non-null bool\n",
      "country_cat            520142 non-null int64\n",
      "year                   520142 non-null int64\n",
      "month                  520142 non-null int64\n",
      "day                    520142 non-null int64\n",
      "hour                   520142 non-null int64\n",
      "dayofweek              520142 non-null int64\n",
      "weekend                520142 non-null int64\n",
      "is_canceled_higher     520142 non-null int64\n",
      "dtypes: bool(3), datetime64[ns](1), float16(1), float32(1), float64(9), int16(2), int32(2), int64(9), object(4)\n",
      "memory usage: 105.7+ MB\n"
     ]
    }
   ],
   "source": [
    "train.info()"
   ]
  },
  {
   "cell_type": "markdown",
   "metadata": {},
   "source": [
    "### Validation"
   ]
  },
  {
   "cell_type": "code",
   "execution_count": 442,
   "metadata": {},
   "outputs": [],
   "source": [
    "cv = StratifiedKFold(n_splits=4, random_state=2019, shuffle=True)"
   ]
  },
  {
   "cell_type": "markdown",
   "metadata": {},
   "source": [
    "### Training model"
   ]
  },
  {
   "cell_type": "code",
   "execution_count": 443,
   "metadata": {},
   "outputs": [
    {
     "name": "stdout",
     "output_type": "stream",
     "text": [
      "0.40408163265306124\n",
      "0.46311475409836067\n",
      "0.45081967213114754\n",
      "0.4385245901639344\n"
     ]
    },
    {
     "data": {
      "text/plain": [
       "(0.43913516226162597, 0.02202652566709253)"
      ]
     },
     "execution_count": 443,
     "metadata": {},
     "output_type": "execute_result"
    }
   ],
   "source": [
    "model = xgb.XGBClassifier(max_depth=3, n_estimators=50, learning_rate=0.3, seed=0)\n",
    "\n",
    "scores = []\n",
    "for train_idx, test_idx in cv.split(X, y):\n",
    "    model.fit(X[train_idx], y[train_idx])\n",
    "    y_pred = model.predict(X[test_idx])\n",
    "    score = recall_score(y[test_idx], y_pred)\n",
    "    print(score)\n",
    "    scores.append(score)\n",
    "\n",
    "(np.mean(scores), np.std(scores))"
   ]
  },
  {
   "cell_type": "markdown",
   "metadata": {},
   "source": [
    "### MSE"
   ]
  },
  {
   "cell_type": "code",
   "execution_count": 444,
   "metadata": {},
   "outputs": [
    {
     "name": "stderr",
     "output_type": "stream",
     "text": [
      "/home/jupyter/anaconda3/lib/python3.7/site-packages/ipykernel_launcher.py:3: SettingWithCopyWarning: \n",
      "A value is trying to be set on a copy of a slice from a DataFrame.\n",
      "Try using .loc[row_indexer,col_indexer] = value instead\n",
      "\n",
      "See the caveats in the documentation: http://pandas.pydata.org/pandas-docs/stable/user_guide/indexing.html#returning-a-view-versus-a-copy\n",
      "  This is separate from the ipykernel package so we can avoid doing imports until\n"
     ]
    }
   ],
   "source": [
    "# local prediction test dataset\n",
    "\n",
    "test_light['is_canceled_pred'] = model.predict(X_test_light)"
   ]
  },
  {
   "cell_type": "code",
   "execution_count": 445,
   "metadata": {},
   "outputs": [
    {
     "name": "stderr",
     "output_type": "stream",
     "text": [
      "/home/jupyter/anaconda3/lib/python3.7/site-packages/ipykernel_launcher.py:3: SettingWithCopyWarning: \n",
      "A value is trying to be set on a copy of a slice from a DataFrame.\n",
      "Try using .loc[row_indexer,col_indexer] = value instead\n",
      "\n",
      "See the caveats in the documentation: http://pandas.pydata.org/pandas-docs/stable/user_guide/indexing.html#returning-a-view-versus-a-copy\n",
      "  This is separate from the ipykernel package so we can avoid doing imports until\n",
      "/home/jupyter/anaconda3/lib/python3.7/site-packages/ipykernel_launcher.py:4: SettingWithCopyWarning: \n",
      "A value is trying to be set on a copy of a slice from a DataFrame.\n",
      "Try using .loc[row_indexer,col_indexer] = value instead\n",
      "\n",
      "See the caveats in the documentation: http://pandas.pydata.org/pandas-docs/stable/user_guide/indexing.html#returning-a-view-versus-a-copy\n",
      "  after removing the cwd from sys.path.\n"
     ]
    },
    {
     "data": {
      "text/plain": [
       "44719.476968202165"
      ]
     },
     "execution_count": 445,
     "metadata": {},
     "output_type": "execute_result"
    }
   ],
   "source": [
    "# local MSE validation\n",
    "\n",
    "test_light['total_return'] = test_light['price_total'] * test_light['is_canceled_higher']\n",
    "test_light['total_return_pred'] = test_light['price_total'] * test_light['is_canceled_pred']\n",
    "result_train = test_light.groupby('invoice')['total_return'].agg(np.sum).to_frame().reset_index()\n",
    "result_train_pred = test_light.groupby('invoice')['total_return_pred'].agg(np.sum).to_frame().reset_index()\n",
    "\n",
    "mse(result_train['total_return'], result_train_pred['total_return_pred'])"
   ]
  },
  {
   "cell_type": "markdown",
   "metadata": {},
   "source": [
    "#### feature importances"
   ]
  },
  {
   "cell_type": "code",
   "execution_count": 446,
   "metadata": {
    "scrolled": false
   },
   "outputs": [
    {
     "data": {
      "text/plain": [
       "<matplotlib.axes._subplots.AxesSubplot at 0x7f0181b71710>"
      ]
     },
     "execution_count": 446,
     "metadata": {},
     "output_type": "execute_result"
    },
    {
     "data": {
      "image/png": "[encoded data removed]",
      "text/plain": [
       "<Figure size 1080x360 with 1 Axes>"
      ]
     },
     "metadata": {
      "needs_background": "light"
     },
     "output_type": "display_data"
    }
   ],
   "source": [
    "skplt.estimators.plot_feature_importances(model, feature_names=feats, x_tick_rotation=90, figsize=(15,5))"
   ]
  },
  {
   "cell_type": "code",
   "execution_count": 447,
   "metadata": {
    "scrolled": true
   },
   "outputs": [
    {
     "data": {
      "text/plain": [
       "<matplotlib.axes._subplots.AxesSubplot at 0x7f017c06b310>"
      ]
     },
     "execution_count": 447,
     "metadata": {},
     "output_type": "execute_result"
    },
    {
     "data": {
      "image/png": "[encoded data removed]",
      "text/plain": [
       "<Figure size 1080x360 with 1 Axes>"
      ]
     },
     "metadata": {
      "needs_background": "light"
     },
     "output_type": "display_data"
    }
   ],
   "source": [
    "skplt.estimators.plot_learning_curve(model, X, y, figsize=(15,5), cv=4, scoring='recall', shuffle=True)"
   ]
  },
  {
   "cell_type": "markdown",
   "metadata": {},
   "source": [
    "## predict for challange in Kaggle"
   ]
  },
  {
   "cell_type": "code",
   "execution_count": 448,
   "metadata": {},
   "outputs": [],
   "source": [
    "# test['total_return'] = test['price_total'] * test['is_canceled']\n",
    "\n",
    "test['is_canceled'] = model.predict(test[feats].values)\n",
    "result = test.groupby('invoice')['is_canceled', 'price_total'].agg(np.sum).reset_index()\n",
    "result['is_canceled'] = result['is_canceled'] > 0\n",
    "result['total_return'] = result['price_total'] * result['is_canceled']"
   ]
  },
  {
   "cell_type": "code",
   "execution_count": 449,
   "metadata": {},
   "outputs": [],
   "source": [
    "# test['is_canceled'] = model.predict(test[feats].values)\n",
    "\n",
    "# #prepare submit\n",
    "# test['total_return'] = test['price_total'] * test['is_canceled']\n",
    "# result = test.groupby('invoice')['total_return'].agg(np.sum).to_frame().reset_index()"
   ]
  },
  {
   "cell_type": "code",
   "execution_count": 453,
   "metadata": {},
   "outputs": [
    {
     "data": {
      "text/html": [
       "<div>\n",
       "<style scoped>\n",
       "    .dataframe tbody tr th:only-of-type {\n",
       "        vertical-align: middle;\n",
       "    }\n",
       "\n",
       "    .dataframe tbody tr th {\n",
       "        vertical-align: top;\n",
       "    }\n",
       "\n",
       "    .dataframe thead th {\n",
       "        text-align: right;\n",
       "    }\n",
       "</style>\n",
       "<table border=\"1\" class=\"dataframe\">\n",
       "  <thead>\n",
       "    <tr style=\"text-align: right;\">\n",
       "      <th></th>\n",
       "      <th>invoice</th>\n",
       "      <th>is_canceled</th>\n",
       "      <th>price_total</th>\n",
       "      <th>total_return</th>\n",
       "    </tr>\n",
       "  </thead>\n",
       "  <tbody>\n",
       "    <tr>\n",
       "      <th>23843</th>\n",
       "      <td>47707</td>\n",
       "      <td>False</td>\n",
       "      <td>308.600006</td>\n",
       "      <td>0.000000</td>\n",
       "    </tr>\n",
       "    <tr>\n",
       "      <th>12614</th>\n",
       "      <td>25366</td>\n",
       "      <td>False</td>\n",
       "      <td>365.279999</td>\n",
       "      <td>0.000000</td>\n",
       "    </tr>\n",
       "    <tr>\n",
       "      <th>1779</th>\n",
       "      <td>3572</td>\n",
       "      <td>False</td>\n",
       "      <td>593.659973</td>\n",
       "      <td>0.000000</td>\n",
       "    </tr>\n",
       "    <tr>\n",
       "      <th>26296</th>\n",
       "      <td>52610</td>\n",
       "      <td>False</td>\n",
       "      <td>1075.359985</td>\n",
       "      <td>0.000000</td>\n",
       "    </tr>\n",
       "    <tr>\n",
       "      <th>6317</th>\n",
       "      <td>12676</td>\n",
       "      <td>False</td>\n",
       "      <td>291.399994</td>\n",
       "      <td>0.000000</td>\n",
       "    </tr>\n",
       "    <tr>\n",
       "      <th>19193</th>\n",
       "      <td>38447</td>\n",
       "      <td>False</td>\n",
       "      <td>207.149994</td>\n",
       "      <td>0.000000</td>\n",
       "    </tr>\n",
       "    <tr>\n",
       "      <th>14527</th>\n",
       "      <td>29191</td>\n",
       "      <td>False</td>\n",
       "      <td>366.769989</td>\n",
       "      <td>0.000000</td>\n",
       "    </tr>\n",
       "    <tr>\n",
       "      <th>8236</th>\n",
       "      <td>16484</td>\n",
       "      <td>False</td>\n",
       "      <td>120.339996</td>\n",
       "      <td>0.000000</td>\n",
       "    </tr>\n",
       "    <tr>\n",
       "      <th>1254</th>\n",
       "      <td>2528</td>\n",
       "      <td>False</td>\n",
       "      <td>86.199997</td>\n",
       "      <td>0.000000</td>\n",
       "    </tr>\n",
       "    <tr>\n",
       "      <th>18535</th>\n",
       "      <td>37171</td>\n",
       "      <td>False</td>\n",
       "      <td>967.200012</td>\n",
       "      <td>0.000000</td>\n",
       "    </tr>\n",
       "    <tr>\n",
       "      <th>1027</th>\n",
       "      <td>2063</td>\n",
       "      <td>False</td>\n",
       "      <td>371.549988</td>\n",
       "      <td>0.000000</td>\n",
       "    </tr>\n",
       "    <tr>\n",
       "      <th>21989</th>\n",
       "      <td>43957</td>\n",
       "      <td>False</td>\n",
       "      <td>336.339996</td>\n",
       "      <td>0.000000</td>\n",
       "    </tr>\n",
       "    <tr>\n",
       "      <th>5739</th>\n",
       "      <td>11497</td>\n",
       "      <td>False</td>\n",
       "      <td>0.000000</td>\n",
       "      <td>0.000000</td>\n",
       "    </tr>\n",
       "    <tr>\n",
       "      <th>17710</th>\n",
       "      <td>35474</td>\n",
       "      <td>False</td>\n",
       "      <td>171.059998</td>\n",
       "      <td>0.000000</td>\n",
       "    </tr>\n",
       "    <tr>\n",
       "      <th>15372</th>\n",
       "      <td>30827</td>\n",
       "      <td>True</td>\n",
       "      <td>800.190002</td>\n",
       "      <td>800.190002</td>\n",
       "    </tr>\n",
       "    <tr>\n",
       "      <th>8037</th>\n",
       "      <td>16093</td>\n",
       "      <td>False</td>\n",
       "      <td>205.149994</td>\n",
       "      <td>0.000000</td>\n",
       "    </tr>\n",
       "    <tr>\n",
       "      <th>24167</th>\n",
       "      <td>48348</td>\n",
       "      <td>False</td>\n",
       "      <td>388.579987</td>\n",
       "      <td>0.000000</td>\n",
       "    </tr>\n",
       "    <tr>\n",
       "      <th>9323</th>\n",
       "      <td>18682</td>\n",
       "      <td>False</td>\n",
       "      <td>25.200001</td>\n",
       "      <td>0.000000</td>\n",
       "    </tr>\n",
       "    <tr>\n",
       "      <th>1798</th>\n",
       "      <td>3621</td>\n",
       "      <td>False</td>\n",
       "      <td>18.379999</td>\n",
       "      <td>0.000000</td>\n",
       "    </tr>\n",
       "    <tr>\n",
       "      <th>3053</th>\n",
       "      <td>6095</td>\n",
       "      <td>False</td>\n",
       "      <td>325.199982</td>\n",
       "      <td>0.000000</td>\n",
       "    </tr>\n",
       "  </tbody>\n",
       "</table>\n",
       "</div>"
      ],
      "text/plain": [
       "       invoice  is_canceled  price_total  total_return\n",
       "23843    47707        False   308.600006      0.000000\n",
       "12614    25366        False   365.279999      0.000000\n",
       "1779      3572        False   593.659973      0.000000\n",
       "26296    52610        False  1075.359985      0.000000\n",
       "6317     12676        False   291.399994      0.000000\n",
       "19193    38447        False   207.149994      0.000000\n",
       "14527    29191        False   366.769989      0.000000\n",
       "8236     16484        False   120.339996      0.000000\n",
       "1254      2528        False    86.199997      0.000000\n",
       "18535    37171        False   967.200012      0.000000\n",
       "1027      2063        False   371.549988      0.000000\n",
       "21989    43957        False   336.339996      0.000000\n",
       "5739     11497        False     0.000000      0.000000\n",
       "17710    35474        False   171.059998      0.000000\n",
       "15372    30827         True   800.190002    800.190002\n",
       "8037     16093        False   205.149994      0.000000\n",
       "24167    48348        False   388.579987      0.000000\n",
       "9323     18682        False    25.200001      0.000000\n",
       "1798      3621        False    18.379999      0.000000\n",
       "3053      6095        False   325.199982      0.000000"
      ]
     },
     "execution_count": 453,
     "metadata": {},
     "output_type": "execute_result"
    }
   ],
   "source": [
    "result.sample(20)"
   ]
  },
  {
   "cell_type": "code",
   "execution_count": 451,
   "metadata": {},
   "outputs": [],
   "source": [
    "result[ ['invoice', 'total_return'] ].to_csv('../output/late_submit_1.csv', index=False)"
   ]
  },
  {
   "cell_type": "markdown",
   "metadata": {},
   "source": []
  }
 ],
 "metadata": {
  "kernelspec": {
   "display_name": "Python 3",
   "language": "python",
   "name": "python3"
  },
  "language_info": {
   "codemirror_mode": {
    "name": "ipython",
    "version": 3
   },
   "file_extension": ".py",
   "mimetype": "text/x-python",
   "name": "python",
   "nbconvert_exporter": "python",
   "pygments_lexer": "ipython3",
   "version": "3.7.4"
  }
 },
 "nbformat": 4,
 "nbformat_minor": 2
}
